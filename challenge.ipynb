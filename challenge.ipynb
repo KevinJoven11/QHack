{
 "cells": [
  {
   "attachments": {},
   "cell_type": "markdown",
   "metadata": {},
   "source": [
    "# Information to take care:\n",
    "\n",
    "* The paper is about spectroscopy.  \n",
    "* This is analog quantum simulation (CV)  \n",
    "* This algorithm can be extendent for open quantum systems.  \n",
    "* They use the base-kickback technique.\n",
    "* MQB = Mixed qudit boson\n",
    "* The example is using a single vibrational mode.\n",
    "\n",
    "# Documentation:\n",
    "\n",
    "[1] Operators: https://docs.pennylane.ai/en/stable/introduction/operations.html\n",
    "\n",
    "# Comments from the paper:\n",
    "\n",
    "* \"Therefore, a(t) is the only quantity whose measurement is required to generate a vibronic spectrum.\"  \n",
    "* \"It can be measured on a quantum simulator by keeping a copy of the initial wavefunction in superposition with the time-evolved wavefunction, so that their overlap can be determined at the end of the simulation via an interference measurement.\"  \n",
    "* \"After transitioning to D0, the wavefunction is no longer stationary and the molecule begins to vibrate\"\n",
    "\n",
    "# IMPORTANT TO READ:\n",
    "\n",
    "* The real or imaginary part of a(t) can be measure in figure 2 if we applied the Rx gate or not.  \n",
    "\n",
    "# We need:\n",
    "\n",
    "* Ainit\n",
    "* H, H', H''\n",
    "* u\n",
    "\n",
    "# Equations:\n",
    "\n",
    "$$ \\hat{H}_{SO_2} = \\hbar \\omega_b + E_{S_0} |S_0\\rangle \\langle S_0 | + (E_{D_0}-\\sqrt{2}\\hbar \\omega_b \\alpha) |D_0\\rangle \\langle D_0 |  $$\n",
    "\n",
    "Using approximations: (In this representation $\\mu' = I$ )\n",
    "\n",
    "$$ \\hat{H}'_{SO_2} = (\\hbar \\omega_b \\hat{n}-\\sqrt{2}\\hbar \\omega_b \\alpha \\hat{Q}+ \\Delta E) |0\\rangle \\langle 0| + \\hbar \\omega_b \\hat{n} |1\\rangle \\langle 1| $$\n",
    "\n",
    "Using simetries we can achieve:\n",
    "\n",
    "$$ \\hat{H}''_{SO_2} = \\hbar \\omega_b \\hat{n} + \\frac{\\hbar \\omega_b \\alpha}{\\sqrt{2}} \\hat{\\sigma}_x \\hat{Q}$$"
   ]
  },
  {
   "cell_type": "code",
   "execution_count": 1,
   "metadata": {},
   "outputs": [],
   "source": [
    "# Libraries\n",
    "import pennylane as qml\n",
    "from pennylane import numpy as np\n",
    "import matplotlib.pyplot as plt"
   ]
  },
  {
   "cell_type": "code",
   "execution_count": 30,
   "metadata": {},
   "outputs": [],
   "source": []
  },
  {
   "cell_type": "code",
   "execution_count": null,
   "metadata": {},
   "outputs": [],
   "source": []
  },
  {
   "cell_type": "code",
   "execution_count": 46,
   "metadata": {},
   "outputs": [],
   "source": [
    "wb = 1 # 2*np.pi*12.44*10e+9\n",
    "alpha = 1.716\n",
    "\n",
    "dev = qml.device(\"default.qubit\", wires=2)\n",
    "\n",
    "Hamiltonian = qml.PauliX(0) @ qml.PauliX(1)\n",
    "\n",
    "@qml.qnode(dev)\n",
    "def Trotter(time, steps):\n",
    "\n",
    "    #qml.Displacement(alpha_mag, alpha_phase, 1)\n",
    "\n",
    "    for i in range(steps):\n",
    "        qml.exp(Hamiltonian, -1j*time)\n",
    "\n",
    "    return qml.expval(qml.PauliZ(0))"
   ]
  },
  {
   "cell_type": "code",
   "execution_count": 47,
   "metadata": {},
   "outputs": [
    {
     "name": "stderr",
     "output_type": "stream",
     "text": [
      "c:\\Users\\Kevin Joven\\AppData\\Local\\Programs\\Python\\Python39\\lib\\_collections_abc.py:940: MatplotlibDeprecationWarning: \n",
      "The animation.avconv_args rcparam was deprecated in Matplotlib 3.3 and will be removed two minor releases later.\n",
      "  self[key] = other[key]\n",
      "c:\\Users\\Kevin Joven\\AppData\\Local\\Programs\\Python\\Python39\\lib\\_collections_abc.py:940: MatplotlibDeprecationWarning: \n",
      "The animation.avconv_path rcparam was deprecated in Matplotlib 3.3 and will be removed two minor releases later.\n",
      "  self[key] = other[key]\n",
      "c:\\Users\\Kevin Joven\\AppData\\Local\\Programs\\Python\\Python39\\lib\\_collections_abc.py:940: MatplotlibDeprecationWarning: \n",
      "The animation.html_args rcparam was deprecated in Matplotlib 3.3 and will be removed two minor releases later.\n",
      "  self[key] = other[key]\n",
      "c:\\Users\\Kevin Joven\\AppData\\Local\\Programs\\Python\\Python39\\lib\\_collections_abc.py:940: MatplotlibDeprecationWarning: \n",
      "The keymap.all_axes rcparam was deprecated in Matplotlib 3.3 and will be removed two minor releases later.\n",
      "  self[key] = other[key]\n",
      "c:\\Users\\Kevin Joven\\AppData\\Local\\Programs\\Python\\Python39\\lib\\_collections_abc.py:940: MatplotlibDeprecationWarning: \n",
      "The savefig.jpeg_quality rcparam was deprecated in Matplotlib 3.3 and will be removed two minor releases later.\n",
      "  self[key] = other[key]\n",
      "c:\\Users\\Kevin Joven\\AppData\\Local\\Programs\\Python\\Python39\\lib\\_collections_abc.py:940: MatplotlibDeprecationWarning: \n",
      "The text.latex.preview rcparam was deprecated in Matplotlib 3.3 and will be removed two minor releases later.\n",
      "  self[key] = other[key]\n"
     ]
    },
    {
     "data": {
      "image/png": "[encoded data removed]",
      "text/plain": [
       "<Figure size 936x216 with 1 Axes>"
      ]
     },
     "metadata": {},
     "output_type": "display_data"
    }
   ],
   "source": [
    "time = 0.1\n",
    "steps = 10\n",
    "\n",
    "fig, ax = qml.draw_mpl(Trotter)(time, steps)\n",
    "plt.show()"
   ]
  },
  {
   "cell_type": "code",
   "execution_count": 48,
   "metadata": {},
   "outputs": [
    {
     "data": {
      "text/plain": [
       "tensor(-0.41614684, requires_grad=True)"
      ]
     },
     "execution_count": 48,
     "metadata": {},
     "output_type": "execute_result"
    }
   ],
   "source": [
    "Trotter(time, steps)"
   ]
  },
  {
   "cell_type": "code",
   "execution_count": null,
   "metadata": {},
   "outputs": [],
   "source": []
  }
 ],
 "metadata": {
  "kernelspec": {
   "display_name": "Python 3",
   "language": "python",
   "name": "python3"
  },
  "language_info": {
   "codemirror_mode": {
    "name": "ipython",
    "version": 3
   },
   "file_extension": ".py",
   "mimetype": "text/x-python",
   "name": "python",
   "nbconvert_exporter": "python",
   "pygments_lexer": "ipython3",
   "version": "3.9.5"
  },
  "orig_nbformat": 4,
  "vscode": {
   "interpreter": {
    "hash": "b692c5112b84cb0f0146006066a71ec03118a3195a234c45307942b05862c083"
   }
  }
 },
 "nbformat": 4,
 "nbformat_minor": 2
}
